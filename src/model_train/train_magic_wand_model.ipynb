{
 "cells": [
  {
   "cell_type": "markdown",
   "metadata": {
    "colab_type": "text",
    "id": "1BtkMGSYQOTQ"
   },
   "source": [
    "# Train a gesture recognition model for microcontroller use"
   ]
  },
  {
   "cell_type": "markdown",
   "metadata": {},
   "source": [
    "Modified from https://colab.research.google.com/github/tensorflow/tensorflow/blob/master/tensorflow/lite/micro/examples/magic_wand/train/train_magic_wand_model.ipynb"
   ]
  },
  {
   "cell_type": "markdown",
   "metadata": {},
   "source": [
    "Note: You need to modify the `you_repo_url` and `your_repo_name` below to satify the situation you have.  \n",
    "e.g. `you_repo_url`: https://github.com/username/magic_wand_mbed and `your_repo_name`: magic_wand_mbed"
   ]
  },
  {
   "cell_type": "code",
   "execution_count": null,
   "metadata": {},
   "outputs": [],
   "source": [
    "import os\n",
    "os.environ['REPO_URL'] = \"you_repo_url\"\n",
    "os.environ['REPO_NAME'] = \"your_repo_name\""
   ]
  },
  {
   "cell_type": "markdown",
   "metadata": {},
   "source": [
    "This is a notebook file for **google colab**.   \n",
    "You can open it directly by https://colab.research.google.com/github/your_repo_name/blob/master/src/model_train/train_magic_wand_model.ipynb when you push to the GitHub.  \n",
    "It only can be open directly from GitHub; otherwise, you need to upload the notebook to google colab by yourself. \n",
    "\n",
    "Training is much faster using GPU acceleration. Before you proceed, ensure you are using a GPU runtime by going to **Runtime -> Change runtime type** and selecting **GPU**. Training will take around 5 minutes on a GPU runtime."
   ]
  },
  {
   "cell_type": "markdown",
   "metadata": {
    "colab_type": "text",
    "id": "LG6ErX5FRIaV"
   },
   "source": [
    "## Configure dependencies (This part only needs to be run once)\n",
    "\n",
    "Run the following cell to ensure the correct version of TensorFlow is used."
   ]
  },
  {
   "cell_type": "code",
   "execution_count": null,
   "metadata": {
    "colab": {},
    "colab_type": "code",
    "id": "h3sE3keZZnMX"
   },
   "outputs": [],
   "source": [
    "%tensorflow_version 2.x"
   ]
  },
  {
   "cell_type": "markdown",
   "metadata": {},
   "source": [
    "Load the extension autoreload to reload the files included automatically."
   ]
  },
  {
   "cell_type": "code",
   "execution_count": null,
   "metadata": {},
   "outputs": [],
   "source": [
    "%load_ext autoreload\n",
    "%autoreload 2"
   ]
  },
  {
   "cell_type": "markdown",
   "metadata": {},
   "source": [
    "Install a hexdump tool named xxd."
   ]
  },
  {
   "cell_type": "code",
   "execution_count": null,
   "metadata": {},
   "outputs": [],
   "source": [
    "# Install xxd if it is not available\n",
    "!apt-get -qq install xxd"
   ]
  },
  {
   "cell_type": "markdown",
   "metadata": {
    "colab_type": "text",
    "id": "STNft9TrfoVh"
   },
   "source": [
    "We'll also clone the repository, which contains the training scripts and dataset."
   ]
  },
  {
   "cell_type": "code",
   "execution_count": null,
   "metadata": {
    "colab": {},
    "colab_type": "code",
    "id": "ygkWw73dRNda"
   },
   "outputs": [],
   "source": [
    "# Clone the repository from your GitHub repo\n",
    "!git clone --depth 1 $REPO_URL\n",
    "# Change directory to your repo\n",
    "os.chdir(\"/content/\"+os.environ['REPO_NAME']+\"/src/model_train\")"
   ]
  },
  {
   "cell_type": "markdown",
   "metadata": {},
   "source": [
    "## Modify the config.py\n",
    "You can modify the `config.py` in the google colab.  "
   ]
  },
  {
   "cell_type": "markdown",
   "metadata": {},
   "source": [
    "1. Click on the files icon on the left sidebar.  \n",
    "2. Explore to the `config.py`.  \n",
    "3. Double click on it to open it.  \n",
    "4. You can start to modify `config.py`.  \n",
    "5. Remember to save `config.py` by hitting <kbd> Ctrl + s </kbd> or <kbd> Cmd + s </kbd> on the file window."
   ]
  },
  {
   "cell_type": "markdown",
   "metadata": {
    "colab_type": "text",
    "id": "pXI7R4RehFdU"
   },
   "source": [
    "## Prepare the data\n",
    "\n",
    "We'll then run the scripts that split the data into training, validation, and test sets."
   ]
  },
  {
   "cell_type": "code",
   "execution_count": null,
   "metadata": {
    "colab": {},
    "colab_type": "code",
    "id": "XBqSVpi6Vxss"
   },
   "outputs": [],
   "source": [
    "# Prepare the data\n",
    "!python data_prepare.py\n",
    "# Split the data\n",
    "!python data_split.py"
   ]
  },
  {
   "cell_type": "markdown",
   "metadata": {
    "colab_type": "text",
    "id": "5-cmVbFvhTvy"
   },
   "source": [
    "## Load TensorBoard\n",
    "\n",
    "Now, we set up TensorBoard so that we can graph our accuracy and loss as training proceeds."
   ]
  },
  {
   "cell_type": "code",
   "execution_count": null,
   "metadata": {
    "colab": {},
    "colab_type": "code",
    "id": "CCx6SN9NWRPw"
   },
   "outputs": [],
   "source": [
    "# Load TensorBoard\n",
    "%load_ext tensorboard\n",
    "%tensorboard --logdir logs/scalars"
   ]
  },
  {
   "cell_type": "markdown",
   "metadata": {
    "colab_type": "text",
    "id": "ERC2Cr4PhaOl"
   },
   "source": [
    "## Begin training\n",
    "\n",
    "The following cell will begin the training process. Training will take around 5 minutes on a GPU runtime. You'll see the metrics in TensorBoard after a few epochs."
   ]
  },
  {
   "cell_type": "code",
   "execution_count": null,
   "metadata": {
    "colab": {},
    "colab_type": "code",
    "id": "DXmQZgbuWQFO"
   },
   "outputs": [],
   "source": [
    "!python train.py"
   ]
  },
  {
   "cell_type": "markdown",
   "metadata": {
    "colab_type": "text",
    "id": "4gXbVzcXhvGD"
   },
   "source": [
    "## Create a C source file\n",
    "\n",
    "The `train.py` script writes a model, `model.tflite`, to the training scripts' directory.\n",
    "\n",
    "In the following cell, we convert this model into a C++ source file we can use with TensorFlow Lite for Microcontrollers."
   ]
  },
  {
   "cell_type": "code",
   "execution_count": null,
   "metadata": {
    "colab": {},
    "colab_type": "code",
    "id": "8wgei4OGe3Nz"
   },
   "outputs": [],
   "source": [
    "# Save the file as a C source file\n",
    "!xxd -i /content/$REPO_NAME/model/model.tflite > /content/$REPO_NAME/src/model.cpp"
   ]
  },
  {
   "cell_type": "markdown",
   "metadata": {},
   "source": [
    "## Copy the result of the cell below"
   ]
  },
  {
   "cell_type": "code",
   "execution_count": null,
   "metadata": {},
   "outputs": [],
   "source": [
    "# Print the source file\n",
    "!cat /content/$REPO_NAME/src/model.cpp"
   ]
  }
 ],
 "metadata": {
  "accelerator": "GPU",
  "colab": {
   "collapsed_sections": [],
   "name": "Train a gesture recognition model for microcontroller use",
   "provenance": [],
   "toc_visible": true
  },
  "kernelspec": {
   "display_name": "Python 3",
   "language": "python",
   "name": "python3"
  },
  "language_info": {
   "codemirror_mode": {
    "name": "ipython",
    "version": 3
   },
   "file_extension": ".py",
   "mimetype": "text/x-python",
   "name": "python",
   "nbconvert_exporter": "python",
   "pygments_lexer": "ipython3",
   "version": "3.7.6"
  }
 },
 "nbformat": 4,
 "nbformat_minor": 1
}
